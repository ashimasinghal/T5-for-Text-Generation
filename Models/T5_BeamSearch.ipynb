{
  "nbformat": 4,
  "nbformat_minor": 0,
  "metadata": {
    "colab": {
      "name": "T5.ipynb",
      "provenance": [],
      "authorship_tag": "ABX9TyP2LOknyxtBtl1myjpYOX3D",
      "include_colab_link": true
    },
    "kernelspec": {
      "name": "python3",
      "display_name": "Python 3"
    },
    "language_info": {
      "name": "python"
    }
  },
  "cells": [
    {
      "cell_type": "markdown",
      "metadata": {
        "id": "view-in-github",
        "colab_type": "text"
      },
      "source": [
        "<a href=\"https://colab.research.google.com/github/ashimasinghal/T5-for-Text-Generation/blob/main/Models/T5_BeamSearch.ipynb\" target=\"_parent\"><img src=\"https://colab.research.google.com/assets/colab-badge.svg\" alt=\"Open In Colab\"/></a>"
      ]
    },
    {
      "cell_type": "code",
      "metadata": {
        "id": "cp9WBI9ZdY1n",
        "colab": {
          "base_uri": "https://localhost:8080/"
        },
        "outputId": "c67e3b71-5251-404a-818f-751d188f2c8a"
      },
      "source": [
        "from google.colab import drive\n",
        "\n",
        "drive.mount('/content/gdrive')"
      ],
      "execution_count": null,
      "outputs": [
        {
          "output_type": "stream",
          "text": [
            "Drive already mounted at /content/gdrive; to attempt to forcibly remount, call drive.mount(\"/content/gdrive\", force_remount=True).\n"
          ],
          "name": "stdout"
        }
      ]
    },
    {
      "cell_type": "code",
      "metadata": {
        "colab": {
          "base_uri": "https://localhost:8080/"
        },
        "id": "cgDFKVbWd700",
        "outputId": "19e8cffd-5009-462a-b5e0-5e19c16f1432"
      },
      "source": [
        "!ls '/content/gdrive/MyDrive/t5_sample_script.py'"
      ],
      "execution_count": null,
      "outputs": [
        {
          "output_type": "stream",
          "text": [
            "/content/gdrive/MyDrive/t5_sample_script.py\n"
          ],
          "name": "stdout"
        }
      ]
    },
    {
      "cell_type": "code",
      "metadata": {
        "colab": {
          "base_uri": "https://localhost:8080/"
        },
        "id": "446-zdzhe04u",
        "outputId": "7896aea1-a2fa-4192-ef3c-d948ce9d03bb"
      },
      "source": [
        "!pip install transformers==3.5.1"
      ],
      "execution_count": null,
      "outputs": [
        {
          "output_type": "stream",
          "text": [
            "Requirement already satisfied: transformers==3.5.1 in /usr/local/lib/python3.7/dist-packages (3.5.1)\n",
            "Requirement already satisfied: filelock in /usr/local/lib/python3.7/dist-packages (from transformers==3.5.1) (3.0.12)\n",
            "Requirement already satisfied: tqdm>=4.27 in /usr/local/lib/python3.7/dist-packages (from transformers==3.5.1) (4.41.1)\n",
            "Requirement already satisfied: sentencepiece==0.1.91 in /usr/local/lib/python3.7/dist-packages (from transformers==3.5.1) (0.1.91)\n",
            "Requirement already satisfied: sacremoses in /usr/local/lib/python3.7/dist-packages (from transformers==3.5.1) (0.0.45)\n",
            "Requirement already satisfied: requests in /usr/local/lib/python3.7/dist-packages (from transformers==3.5.1) (2.23.0)\n",
            "Requirement already satisfied: numpy in /usr/local/lib/python3.7/dist-packages (from transformers==3.5.1) (1.19.5)\n",
            "Requirement already satisfied: tokenizers==0.9.3 in /usr/local/lib/python3.7/dist-packages (from transformers==3.5.1) (0.9.3)\n",
            "Requirement already satisfied: regex!=2019.12.17 in /usr/local/lib/python3.7/dist-packages (from transformers==3.5.1) (2019.12.20)\n",
            "Requirement already satisfied: protobuf in /usr/local/lib/python3.7/dist-packages (from transformers==3.5.1) (3.12.4)\n",
            "Requirement already satisfied: packaging in /usr/local/lib/python3.7/dist-packages (from transformers==3.5.1) (20.9)\n",
            "Requirement already satisfied: joblib in /usr/local/lib/python3.7/dist-packages (from sacremoses->transformers==3.5.1) (1.0.1)\n",
            "Requirement already satisfied: six in /usr/local/lib/python3.7/dist-packages (from sacremoses->transformers==3.5.1) (1.15.0)\n",
            "Requirement already satisfied: click in /usr/local/lib/python3.7/dist-packages (from sacremoses->transformers==3.5.1) (7.1.2)\n",
            "Requirement already satisfied: urllib3!=1.25.0,!=1.25.1,<1.26,>=1.21.1 in /usr/local/lib/python3.7/dist-packages (from requests->transformers==3.5.1) (1.24.3)\n",
            "Requirement already satisfied: idna<3,>=2.5 in /usr/local/lib/python3.7/dist-packages (from requests->transformers==3.5.1) (2.10)\n",
            "Requirement already satisfied: certifi>=2017.4.17 in /usr/local/lib/python3.7/dist-packages (from requests->transformers==3.5.1) (2020.12.5)\n",
            "Requirement already satisfied: chardet<4,>=3.0.2 in /usr/local/lib/python3.7/dist-packages (from requests->transformers==3.5.1) (3.0.4)\n",
            "Requirement already satisfied: setuptools in /usr/local/lib/python3.7/dist-packages (from protobuf->transformers==3.5.1) (56.1.0)\n",
            "Requirement already satisfied: pyparsing>=2.0.2 in /usr/local/lib/python3.7/dist-packages (from packaging->transformers==3.5.1) (2.4.7)\n"
          ],
          "name": "stdout"
        }
      ]
    },
    {
      "cell_type": "code",
      "metadata": {
        "colab": {
          "base_uri": "https://localhost:8080/"
        },
        "id": "TH1baMN45EfM",
        "outputId": "c53a1db3-4faa-481c-f336-3c4c7fa01914"
      },
      "source": [
        "!pip install torch==1.4.0"
      ],
      "execution_count": null,
      "outputs": [
        {
          "output_type": "stream",
          "text": [
            "Requirement already satisfied: torch==1.4.0 in /usr/local/lib/python3.7/dist-packages (1.4.0)\n"
          ],
          "name": "stdout"
        }
      ]
    },
    {
      "cell_type": "code",
      "metadata": {
        "id": "klYwOq6heyc9"
      },
      "source": [
        "import torch\n",
        "from transformers import T5ForConditionalGeneration,AutoTokenizer\n",
        "import pandas as pd\n"
      ],
      "execution_count": null,
      "outputs": []
    },
    {
      "cell_type": "markdown",
      "metadata": {
        "id": "kGVT_08Tfwwe"
      },
      "source": [
        "\n",
        "\n",
        "\n",
        "\n",
        "\n",
        "\n",
        "\n",
        "\n",
        "\n"
      ]
    },
    {
      "cell_type": "code",
      "metadata": {
        "colab": {
          "base_uri": "https://localhost:8080/"
        },
        "id": "S3_qOdJlf-nN",
        "outputId": "17cbc166-a106-4a13-ad47-b42c0f446a61"
      },
      "source": [
        "% pip install sentencepiece"
      ],
      "execution_count": null,
      "outputs": [
        {
          "output_type": "stream",
          "text": [
            "Requirement already satisfied: sentencepiece in /usr/local/lib/python3.7/dist-packages (0.1.91)\n"
          ],
          "name": "stdout"
        }
      ]
    },
    {
      "cell_type": "code",
      "metadata": {
        "colab": {
          "base_uri": "https://localhost:8080/"
        },
        "id": "_ITP801riUds",
        "outputId": "1a43f4f7-9416-4de7-ee3f-b4e027078c6f"
      },
      "source": [
        "def set_seed(seed):\n",
        "    torch.manual_seed(seed)\n",
        "    if torch.cuda.is_available():\n",
        "        torch.cuda.manual_seed_all(seed)\n",
        "\n",
        "set_seed(42)\n",
        "\n",
        "model = T5ForConditionalGeneration.from_pretrained('ramsrigouthamg/t5_paraphraser')\n",
        "tokenizer = AutoTokenizer.from_pretrained('ramsrigouthamg/t5_paraphraser')\n",
        "\n",
        "device = torch.device(\"cuda\" if torch.cuda.is_available() else \"cpu\")\n",
        "print (\"device \",device)\n",
        "model = model.to(device)\n",
        "\n",
        "\n",
        "file=open(r'/content/gdrive/MyDrive/sample-text.txt',\"r\")\n",
        "sentence_li=[]\n",
        "while True:\n",
        "    l=file.readline()\n",
        "    if type(l)==str:\n",
        "        sentence_li.append(l)\n",
        "    if not l:\n",
        "        break\n",
        "file.close()\n",
        "sentence_li=[w.strip(\"\\n\") for w in sentence_li]"
      ],
      "execution_count": null,
      "outputs": [
        {
          "output_type": "stream",
          "text": [
            "device  cpu\n"
          ],
          "name": "stdout"
        }
      ]
    },
    {
      "cell_type": "code",
      "metadata": {
        "colab": {
          "base_uri": "https://localhost:8080/"
        },
        "id": "cPgfhkFCeg4-",
        "outputId": "5d81a2c2-e64b-4791-81cb-cadb92731c3c"
      },
      "source": [
        "\n",
        "\n",
        "temporal_list=[]\n",
        "for i in sentence_li:\n",
        "    sentence=i\n",
        "    sub_list=[]\n",
        "\n",
        "    text =  \"paraphrase: \" + sentence + \" </s>\"\n",
        "\n",
        "\n",
        "    max_len = 256\n",
        "    # print(text)\n",
        "    model = T5ForConditionalGeneration.from_pretrained('ramsrigouthamg/t5_paraphraser')\n",
        "    tokenizer = AutoTokenizer.from_pretrained('ramsrigouthamg/t5_paraphraser')\n",
        "    # print(tokenizer)\n",
        "\n",
        "    # encoding = tokenizer.encode_plus(text,pad_to_max_length=True, return_tensors=\"pt\")\n",
        "    encoding = tokenizer.encode_plus(text,pad_to_max_length=True, return_tensors=\"pt\")\n",
        "    input_ids, attention_masks = encoding[\"input_ids\"].to(device), encoding[\"attention_mask\"].to(device)\n",
        "\n",
        "\n",
        "    # set top_k = 50 and set top_p = 0.95 and num_return_sequences = 3\n",
        "    beam_outputs = model.generate(\n",
        "    input_ids=input_ids, attention_mask=attention_masks,\n",
        "    do_sample=True,\n",
        "    max_length=256,\n",
        "    top_k=120,\n",
        "    top_p=0.98,\n",
        "    early_stopping=True,\n",
        "    num_return_sequences=10\n",
        "    )\n",
        "\n",
        "\n",
        "    print (\"\\nOriginal Question ::\")\n",
        "    print (sentence)\n",
        "    print (\"\\n\")\n",
        "    print (\"Paraphrased Questions :: \")\n",
        "    final_outputs =[]\n",
        "    for beam_output in beam_outputs:\n",
        "        sent = tokenizer.decode(beam_output, skip_special_tokens=True,clean_up_tokenization_spaces=True)\n",
        "        if sent.lower() != sentence.lower() and sent not in final_outputs:\n",
        "            final_outputs.append(sent)\n",
        "\n",
        "    for i, final_output in enumerate(final_outputs):\n",
        "        print(\"{}: {}\".format(i, final_output))\n",
        "        sub_list.append(final_output)\n",
        "    temporal_list.append(sub_list)\n",
        "\n",
        "sample_df=pd.DataFrame(columns=[\"Actual\",\"Predicted\"])\n",
        "sample_df[\"Actual\"]=sentence_li\n",
        "sample_df[\"Predicted\"]=temporal_list\n",
        "sample_df.to_csv(\"/content/gdrive/MyDrive/paraphrase_t5.csv\",index=False)\n",
        "sample_df\n"
      ],
      "execution_count": null,
      "outputs": [
        {
          "output_type": "stream",
          "text": [
            "/usr/local/lib/python3.7/dist-packages/transformers/tokenization_utils_base.py:2022: FutureWarning: The `pad_to_max_length` argument is deprecated and will be removed in a future version, use `padding=True` or `padding='longest'` to pad to the longest sequence in the batch, or use `padding='max_length'` to pad to a max length. In this case, you can give a specific length with `max_length` (e.g. `max_length=45`) or leave max_length to None to pad to the maximal input size of the model (e.g. 512 for Bert).\n",
            "  FutureWarning,\n",
            "/usr/local/lib/python3.7/dist-packages/transformers/tokenization_t5.py:184: UserWarning: This sequence already has </s>. In future versions this behavior may lead to duplicated eos tokens being added.\n",
            "  f\"This sequence already has {self.eos_token}. In future versions this behavior may lead to duplicated eos tokens being added.\"\n"
          ],
          "name": "stderr"
        },
        {
          "output_type": "stream",
          "text": [
            "\n",
            "Original Question ::\n",
            "want to speak to parkway cancer centre medical director\n",
            "\n",
            "\n",
            "Paraphrased Questions :: \n",
            "0: I am a cancer survivor, want to speak to Parkway Cancer Centre doctor. For more information on phone or to arrange for a free telephone consultation with him at the parkway cancer centre.\n",
            "1: want to speak to parkway cancer centre medical director Dr Alex Jayne.\n",
            "2: Can I speak to parkway cancer centre medical director in South Yorkshire?\n",
            "3: Why would a cancer treatment centre contact steve j. parkway?\n",
            "4: Would you like to speak to Stanbrook Cancer Centre medical director?\n",
            "5: What is your view on parkway cancer centre's contact.\n",
            "6: Need your question answered by Parkway Cancer Centre medical director?\n",
            "7: I want to speak to parkway cancer centre medical director. want to talk to parkway cancer centre medical director?\n",
            "8: I wish to speak to parkway cancer centre medical director and have many years experience. Want to speak to parkway cancer centre medical director?\n",
            "9: would you like to speak to the director of Parkway Cancer Centre, i.e. GP and general manager?\n",
            "\n",
            "Original Question ::\n",
            "connect my call to reservations bed mangement unit\n",
            "\n",
            "\n",
            "Paraphrased Questions :: \n",
            "0: Connect my call to reservations my call to reservations bed mangement unit.\n",
            "1: connect my call to reservation bed mangement unit. room only. bed mangement unit bed mangement unit.\n",
            "2: How do you connect a reservation number to the reservation service?\n",
            "3: I call reservation system to connect call to reservation bed mangement unit.\n",
            "4: I may connect with reservations bed mangement unit within 5 days.\n",
            "5: Connect call to reservations bed mangement unit. Sleep over night service is available 24/7.\n",
            "6: Connect my call to reservations bed mangement unit.\n",
            "7: How do I connect a call to reservation bed mangement unit?\n",
            "8: How do I connect my call to reservations bed mangement unit?\n",
            "9: connect my call to reservations bed mangement unit. (#6).\n",
            "\n",
            "Original Question ::\n",
            "what's the contact number of discharge summary\n",
            "\n",
            "\n",
            "Paraphrased Questions :: \n",
            "0: What's the contact number of discharge summary?\n",
            "1: What are the contact number of discharge summary?\n",
            "2: What is the contact number of discharge summary?\n",
            "3: What is the discharge summary contact number with?\n",
            "4: What's the contact number of discharge summary assistant?\n",
            "5: What's the number of discharge summary to send a note?\n",
            "6: What's the phone number of discharge summary counselor?\n",
            "7: What is the number of discharge summary with the discharge details written in the note?\n",
            "8: Which is the contact number of discharge summary?\n",
            "\n",
            "Original Question ::\n",
            "connect me to material management o t store on call please\n",
            "\n",
            "\n",
            "Paraphrased Questions :: \n",
            "0: connect me to material management o t store on call please.\n",
            "1: how do I connect with materials management for store phone call please?\n",
            "2: Is there a way to reach the shop on call?\n",
            "3: Which places will you contact to come and make an appointment to meet my needs?\n",
            "4: How can we contact material management (MMT) to get answers on call?\n",
            "5: connect me to material management for store on call please?\n",
            "6: How do I connect me to store on call please?\n",
            "7: About the contact: contact me to the material management of store on call please!\n",
            "8: Is it always good to have material management on call with a company where I live?\n",
            "9: Connect me to material management for storage on call please?\n",
            "\n",
            "Original Question ::\n",
            "<noise> connect me to infection control\n",
            "\n",
            "\n",
            "Paraphrased Questions :: \n",
            "0: Does noise connect me to infection control?\n",
            "1: noise> connect me to infection control. infection control: infection control.\n",
            "2: Why does noise connect me to infection control?\n",
            "3: I need infection control. Could you stop the noise from connecting me to infection control?\n",
            "4: Where do you get virus data from the infection control system?\n",
            "5: I have been using neuronoise for my infection control by infecting human tissues. What is the noise?\n",
            "6: noise> connect me to infection control control program.\n",
            "7: Would noise connect me to infection control?\n",
            "8: Anxiety and noise connection with infectious disease control. Why would you call infections control instead of the infection control number?\n",
            "\n",
            "Original Question ::\n",
            "p c u ward\n",
            "\n",
            "\n",
            "Paraphrased Questions :: \n",
            "0: p c u ward pcu.ward.p c uward.ward.in p c uward.in ward.pcuward.inward, ward.inward.ward.pcuward.com ward.pcuward.inward.pcuward.inward.pc ward.inward. pcuward.inward.pureward.pcuward.inward.pccuward.in\n",
            "1: p c u. wards wards. and wards.\n",
            "2: pc u ward: P c u ward: 1 c u ward: 1 c u ward: 1 ward: 1 ward: A C u ward p c u ward: pc u ward: 2 wards: 2 wards: uncomplaints: 1 ward: 9 c u ward: 1 ward: pc ward: 1 ward: 4 ward: 1 ward:\n",
            "3: P C U Ward, ward of the university of westphalia. PPCC.\n",
            "4: P c u ward ward?\n",
            "5: P c u ward.\n",
            "6: P c u ward p c u ward, p c u ward p c u ward are the most common and the most prominent among the poor.P c u wards, ward p c u ward are the most poor.P c u ward ward is the most vulnerable.\n",
            "7: I'm an ex c uward graduate, I want to be the best. What is the idea of preparing for the prestigious P c uward?\n",
            "8: p c u wards. com.pcuward.pcuward.gd.hh.p cuward wards.pcuward.pcuward.gd.wards.pccuward.pcuward.pcuward.org.pc uwards.docs.pcuwards.ccuwards.ccuwards.pcuwards.pcuward.pc\n",
            "9: B C GARD : P c u ward ward. A c u ward is involved in the p c u ward. A ward has to be fully supported to sit in a ward, and to the ward, so that wards don't reach out to the police. C U ward ward : If p c u.eward is concerned ward?\n",
            "\n",
            "Original Question ::\n",
            "can i get clinical safety and risk management manager on call number\n",
            "\n",
            "\n",
            "Paraphrased Questions :: \n",
            "0: Which is the best Clinical Safety and Risk Management Services to get a CSR manager on call number?\n",
            "1: Where can I get clinical safety and risk management manager number?\n",
            "2: I have not heard of clinical safety & risk management manager who offers emergency number or free phone number. Is there any help or assistance?\n",
            "3: How can I get clinical safety and risk management manager on call number?\n",
            "4: Clinical Safety and Risk Management Manager on the call number. Who can help me with details of the clinical safety and risk management team?\n",
            "5: How can I get clinical safety and risk management manager on call number.\n",
            "6: How can we get Clinical Safety and Risk Management Manager on call number?\n",
            "7: Can you get clinical safety and risk management manager on call number?\n",
            "8: Is there a clinical safety and risk manager. I have got 444 or 522. Any help would be great.\n",
            "9: Can I get clinical safety and risk management manager on call number?\n",
            "\n",
            "Original Question ::\n",
            "how to reach radiology c e o\n",
            "\n",
            "\n",
            "Paraphrased Questions :: \n",
            "0: How do I study radiology in India?\n",
            "1: How do i reach Radiology c e o?\n",
            "2: How can one join radiology school?\n",
            "3: How can you reach for radiology ce op?\n",
            "4: How can I get access to radiology?\n",
            "5: How did you get to the C E O radiology institute in a short time?\n",
            "6: How can I join c-e-o radiology?\n",
            "7: Where can I get my c e o at rst?\n",
            "8: How can I pursue radiology from the above mentioned school?\n",
            "9: How can I join c e o radiology institute?\n",
            "\n",
            "Original Question ::\n",
            "transfer laboratory parkway lab services executive secretary of c e o on call\n",
            "\n",
            "\n",
            "Paraphrased Questions :: \n",
            "0: Transfer laboratory parkway lab services executive secretary of the c e o on call cfm e o twa pls c e o parkway lab for business cvh. twa pls mrs cptpr o poppy@wba.pays.transfer lab e lwllb the parkway lab services c e o poppy@the parkway lab services gfwr c \n",
            "1: Transfer Laboratory parkway lab services executive secretary of c e o on call.\n",
            "2: transfer laboratory parkway lab services executive secretary of c e o on call transfer lab parkway lab services\n",
            "3: Transfer laboratory parkway lab services executive secretary of c e o on call reserve of on call.\n",
            "4: Transfer laboratory parkway lab services executive secretary of c e o on call transfer laboratory parkway lab services c e o on call transfer laboratory parkway lab service general manager of c e o is stational.\n",
            "5: Transfer lab parkway lab services executive secretary of c e o on call transfer lab testing manager parkway lab services chairman of office parkway lab services.\n",
            "6: Transfer laboratory parkway lab services executive secretary of C e o on call transfer laboratory transfer lab parkway lab services on call transfer laboratory\n",
            "7: transfer laboratory parkway lab services executive secretary of c e o and on call transfer laboratory parkway lab services an interstate bank executive secretary of c e o department of government. for new contract applications. transfer laboratory transfer laboratory for any upcoming projects. transfer laboratory on call transfer laboratory transfer laboratory transfer lab customer and engineering transfer laboratory transfer laboratory parkway lab services transfer laboratory Parkway lab services transfer laboratory parkway laboratory services transfer laboratory parkway laboratory services transfer laboratory parking transfer laboratory parkway lab services transfer lab\n",
            "8: Transfer laboratory parkway lab services executive secretary of c e o on call.\n",
            "9: Transfer laboratory parkway lab services executive secretary of c e o on call transfer laboratory parkway lab services exec secretary of chemical underwriter of la l.\n",
            "\n",
            "Original Question ::\n",
            "get me c v l cardiac technician\n",
            "\n",
            "\n",
            "Paraphrased Questions :: \n",
            "0: What is the best case for a medical technician who needs an appendix?\n",
            "1: How do I get an cvl for cardiac therapy?\n",
            "2: what I should know about getting me a cardiac technician?\n",
            "3: cvl - cardiac technician. Get me cvl ASAP. I do everything I can to get my license.\n",
            "4: Get me C V L cardiac technician certificate if I can at some point call your college.\n",
            "5: How do you get a C v L cardiac technician (as an Emergency cardiologist)?\n",
            "6: How do I get a c v l training as a cardiac technician?\n",
            "7: How do I get a cardiac technician?\n",
            "8: How do you get me a cv l cardiac technician?\n",
            "9: Get me c v l cardiac technician. What experience would you have with me?\n",
            "\n",
            "Original Question ::\n",
            "transfer me to oncology\n",
            "\n",
            "\n",
            "Paraphrased Questions :: \n",
            "0: Transfer me to oncology. Transfer me to surgery. transfer me to cancer. transfer me to oncology. transfer me to oncology. transfer me to cancer. transfer me to oncology. transfer me to cancer. transfer me to oncology. transfer me to oncology? transfer me to oncology. transfer me to cancer. transfer me to oncology. transfer me to oncology. transfer me to oncology. transfer me to oncology. transfer me to oncology. transfer me to on\n",
            "1: Transfer me to oncology?\n",
            "2: Can transferring me to oncology make me more confident?\n",
            "3: transferring me to oncology. transfer me to oncology for a nursing assignment. transfer me to oncology.\n",
            "4: Transfer me to Oncology in a medical summer internship.\n",
            "5: How do I transfer my attention to oncology?\n",
            "6: What does that mean for me if I chose to do oncology?\n",
            "7: transfer me to oncology my BS (medical)\n",
            "8: transfer me to oncology. transfer me to cancer. transfer me to oncology. transfer me to oncology. transfer me to oncology. transfer me to m.on. transfer me to m.on. transfer me to m.on. Transfer me to phson. transfer me to oncology (transfer me to oem). transfer me to c. transfer me to m.on. transfer me to oncology. transfer me to gynaec\n",
            "9: transfer me to oncology. transfer me to surgery. transfer me to oncology. transfer me to oncology for my PhD.\n",
            "\n",
            "Original Question ::\n",
            "trace nursing notes for a patient\n",
            "\n",
            "\n",
            "Paraphrased Questions :: \n",
            "0: How can I trace nurse notes for a patient?\n",
            "1: Track nursing notes of patient at the hospital.\n",
            "2: I am interested in nursing notes, he traced them for a patient. I wish to start my own research. I intend to trace their notes in the hospital.\n",
            "3: trace nursing notes for a patient?\n",
            "4: With trace nursing notes a patient is traced and see what a nursing note is for.\n",
            "5: Nursing notes trace nursing notes for a patient.\n",
            "6: How do trace nursing notes for patients after the initial visit?\n",
            "7: In nursing notes for traceability; nurse notes need to be found with the patient.\n",
            "8: How can trace a trace nursing note for a patient?\n",
            "\n",
            "Original Question ::\n",
            "clinician number\n",
            "\n",
            "\n",
            "Paraphrased Questions :: \n",
            "0: What is the clinician number for each practice in the U.S.?\n",
            "1: The clinician number for a hospital in stowaway, FL is 319-971-1222. Our clinician number is 240-356-2663.\n",
            "2: The clinician number is 701-682-9400.\n",
            "3: Number PHONE: 1-216-724-1656 PEDULARY PROCESSORS.\n",
            "4: Let me know your clinic # and practitioner number.\n",
            "5: How does clinic number help patient?\n",
            "6: Clinical phone number of clinicians.\n",
            "7: What is the clinician number in New Jersey?\n",
            "8: Where and how do I obtain a clinician number?\n",
            "9: What is the clinician number for the EXERCISE?\n"
          ],
          "name": "stdout"
        }
      ]
    },
    {
      "cell_type": "code",
      "metadata": {
        "id": "K7WzZ7z5fsut"
      },
      "source": [
        ""
      ],
      "execution_count": null,
      "outputs": []
    },
    {
      "cell_type": "markdown",
      "metadata": {
        "id": "YcRD8xWh4o45"
      },
      "source": [
        ""
      ]
    }
  ]
}